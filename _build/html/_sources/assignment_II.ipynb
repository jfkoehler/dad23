{
 "cells": [
  {
   "cell_type": "markdown",
   "metadata": {
    "id": "X4bY7WMQDUJS"
   },
   "source": [
    "### Conditionals and Loops\n",
    "\n",
    "These problems review our ideas about conditionals and loops."
   ]
  },
  {
   "cell_type": "markdown",
   "metadata": {
    "id": "epzk1Om0DUJT"
   },
   "source": [
    "1. Print out the numbers 1 through 10."
   ]
  },
  {
   "cell_type": "code",
   "execution_count": null,
   "metadata": {},
   "outputs": [],
   "source": []
  },
  {
   "cell_type": "markdown",
   "metadata": {
    "id": "b5Sso9MTDUJT"
   },
   "source": [
    "2. Print out the odd numbers between 1 and 20 by using the third paramter to the `range()` function."
   ]
  },
  {
   "cell_type": "code",
   "execution_count": null,
   "metadata": {},
   "outputs": [],
   "source": []
  },
  {
   "cell_type": "markdown",
   "metadata": {
    "id": "lQ9jC6bQDUJU"
   },
   "source": [
    "3. Print out the odd numbers between 1 and 20 by checking if the number is even before printing."
   ]
  },
  {
   "cell_type": "code",
   "execution_count": null,
   "metadata": {},
   "outputs": [],
   "source": []
  },
  {
   "cell_type": "markdown",
   "metadata": {
    "id": "fJyDAK7sDUJV"
   },
   "source": [
    "4. What is the sum of the first 100 integers? Hint: Create a variable `total` equal to zero, and increment `total` inside a loop."
   ]
  },
  {
   "cell_type": "code",
   "execution_count": null,
   "metadata": {
    "id": "HeBna8S8DUJV"
   },
   "outputs": [],
   "source": []
  },
  {
   "cell_type": "markdown",
   "metadata": {
    "id": "VWfsOXBrDUJV"
   },
   "source": [
    "5. For each friend in your `friends` list, print `\"PERSON IS AWESOME!\"` in all caps, where `PERSON` is of course replaced with your friend's name."
   ]
  },
  {
   "cell_type": "code",
   "execution_count": null,
   "metadata": {
    "id": "whge-L1sDUJW"
   },
   "outputs": [],
   "source": [
    "friends = [\"Alice\", \"Bob\", \"Charlie\", \"Debbie\"]"
   ]
  },
  {
   "cell_type": "code",
   "execution_count": null,
   "metadata": {
    "id": "Ns7h3Ma4DUJW"
   },
   "outputs": [],
   "source": []
  },
  {
   "cell_type": "markdown",
   "metadata": {
    "id": "V1h_3VXsDUJX"
   },
   "source": [
    "6. Similar to the last problem, print `\"PERSON IS AWESOME!\"` for each friend in your friends list _only if their name ends in a vowel_. Otherwise, print `\"person is ok...\"` (all lowercase). "
   ]
  },
  {
   "cell_type": "code",
   "execution_count": null,
   "metadata": {
    "id": "2WL_POtPDUJX"
   },
   "outputs": [],
   "source": []
  },
  {
   "cell_type": "markdown",
   "metadata": {
    "id": "GXQ9hvwvDUJX"
   },
   "source": [
    "7. For each number between 1 and 30, if a number is divisible by 3, print `\"Fizz\"`. Otherwise, just print the number."
   ]
  },
  {
   "cell_type": "code",
   "execution_count": null,
   "metadata": {
    "id": "TAFwHCIHDUJX"
   },
   "outputs": [],
   "source": []
  },
  {
   "cell_type": "markdown",
   "metadata": {
    "id": "bj6ZnUgxDUJX"
   },
   "source": [
    "8. For each number between 1 and 30, if a number is divisible by 5, print `\"Buzz\"`. Otherwise, just print the number."
   ]
  },
  {
   "cell_type": "code",
   "execution_count": null,
   "metadata": {
    "id": "eExoNwQVDUJY"
   },
   "outputs": [],
   "source": []
  },
  {
   "cell_type": "markdown",
   "metadata": {
    "id": "UGcDcP8zDUJY"
   },
   "source": [
    "9. **FIZZBUZZ!** For each number between 1 and 30,\n",
    "* if a number is divisible by 3, print `\"Fizz\"`\n",
    "* if a number is divisible by 5, print `\"Buzz\"`\n",
    "* if a number is divisible by both 3 and 5, instead print `\"Fizzbuzz\"`,\n",
    "* otherwise, just print the number\n",
    "\n",
    "This problem is the famous \"Fizzbuzz\" problem - and is a very common interview coding challenge! If you can do this without help, you're making awesome progress! Well done!"
   ]
  },
  {
   "cell_type": "code",
   "execution_count": null,
   "metadata": {
    "id": "KM65qjPHDUJY"
   },
   "outputs": [],
   "source": []
  },
  {
   "cell_type": "markdown",
   "metadata": {
    "id": "JBuUvVlqDUJY"
   },
   "source": [
    "10. Define some string `sentence`. If you can't think of a good one, feel free to use `fact` from the previous notebook."
   ]
  },
  {
   "cell_type": "code",
   "execution_count": null,
   "metadata": {
    "id": "Cssq7Qd_DUJY"
   },
   "outputs": [],
   "source": []
  },
  {
   "cell_type": "markdown",
   "metadata": {
    "id": "XZ0f8bkjDUJY"
   },
   "source": [
    "11. Count the number of vowels in `sentence` (no, y is not a vowel).\n",
    "* _Hint:_ What happens if you loop through a string?"
   ]
  },
  {
   "cell_type": "code",
   "execution_count": null,
   "metadata": {
    "id": "Wiv_7boKDUJZ"
   },
   "outputs": [],
   "source": []
  },
  {
   "cell_type": "markdown",
   "metadata": {
    "id": "1Ubn4SrJDUJZ"
   },
   "source": [
    "12. Define a variable `sentence_rm` that is equal to `sentence` with all vowels removed. \n",
    "* _Hint:_ This is a tough one. Start out with an empty string and concatenate all of the consonants to it inside a loop."
   ]
  },
  {
   "cell_type": "code",
   "execution_count": null,
   "metadata": {
    "id": "WZGGwCTbDUJZ"
   },
   "outputs": [],
   "source": []
  },
  {
   "cell_type": "markdown",
   "metadata": {
    "id": "toHj3l41DUJZ"
   },
   "source": [
    "13. Create a variable `fav_number` equal to whatever is your favorite integer. Write a loop to determine if `fav_number` is prime. Recall that a prime number is any number whose only divisors are 1 and itself. For example, 6 is not prime since it's divisible by 1, 2, 3, and 6. But 7 _is_ prime since it's only divisible by 1 and 7."
   ]
  },
  {
   "cell_type": "code",
   "execution_count": null,
   "metadata": {
    "id": "1hTAjWZYDUJZ"
   },
   "outputs": [],
   "source": []
  },
  {
   "cell_type": "markdown",
   "metadata": {
    "id": "ZqTiPg0aDUJZ"
   },
   "source": [
    "14. A palindromic number reads the same both ways. For example, 1234321 is a palindrome. Write an `if` statement to test whether or not a number is palindromic."
   ]
  },
  {
   "cell_type": "code",
   "execution_count": null,
   "metadata": {
    "id": "-E_vQmOhDUJZ"
   },
   "outputs": [],
   "source": []
  },
  {
   "cell_type": "markdown",
   "metadata": {
    "id": "EtdQWO_iDUJZ"
   },
   "source": [
    "15. Find the largest palindrome made from the product of two two-digit numbers.\n",
    "* _Tip:_ Do not worry about the \"efficiency\" of your answer! The easiest answer is very inefficient."
   ]
  },
  {
   "cell_type": "code",
   "execution_count": null,
   "metadata": {
    "id": "GYCTHdSsDUJZ"
   },
   "outputs": [],
   "source": []
  },
  {
   "cell_type": "markdown",
   "metadata": {
    "id": "6AXzwLVlDUJd"
   },
   "source": [
    "16. Here are more heights below. However, this time, the information is contained in a dictionary. Create a list of the names _and ONLY the names_ of the people who are tall enough to ride the roller coaster.\n",
    "\n",
    "* _Hint:_ How can you loop through a dictionary?"
   ]
  },
  {
   "cell_type": "code",
   "execution_count": null,
   "metadata": {
    "id": "Z3YNTqrMDUJd"
   },
   "outputs": [],
   "source": [
    "people = {\n",
    "    \"Aaron\": 58,\n",
    "    \"Barbara\": 66,\n",
    "    \"Clarence\": 62,\n",
    "    \"Donovan\": 55,\n",
    "    \"Erika\": 70,\n",
    "    \"Fernando\": 72\n",
    "}"
   ]
  },
  {
   "cell_type": "code",
   "execution_count": null,
   "metadata": {
    "id": "2pY6FEUHDUJd"
   },
   "outputs": [],
   "source": []
  },
  {
   "cell_type": "markdown",
   "metadata": {
    "id": "NEYf5095DUJd"
   },
   "source": [
    "17. Below we have some more data on our classmates. This time, the dictionary values are test scores. A student's final grade is their _maximum_ score on these three tests. Create a list of the students' final grades."
   ]
  },
  {
   "cell_type": "code",
   "execution_count": null,
   "metadata": {
    "id": "B-L2hwFMDUJd"
   },
   "outputs": [],
   "source": [
    "people = {\n",
    "    \"Aaron\": [87, 52, 78],\n",
    "    \"Barbara\": [92, 79, 85],\n",
    "    \"Clarence\": [42, 68, 55],\n",
    "    \"Donovan\": [95, 100, 87],\n",
    "    \"Erika\": [62, 88, 47],\n",
    "    \"Fernando\": [84, 99, 0]\n",
    "}"
   ]
  },
  {
   "cell_type": "code",
   "execution_count": null,
   "metadata": {
    "id": "yCkE00n2DUJd"
   },
   "outputs": [],
   "source": []
  },
  {
   "cell_type": "markdown",
   "metadata": {
    "id": "JsJ7PtORDUJd"
   },
   "source": [
    "18. Repeat the above problem, except create a _dictionary_ of the final scores, where the dictionary keys are the names, and the dictionary values are the final grade.\n",
    "\n"
   ]
  },
  {
   "cell_type": "code",
   "execution_count": null,
   "metadata": {
    "id": "0HJ7bVjADUJe"
   },
   "outputs": [],
   "source": []
  },
  {
   "cell_type": "markdown",
   "metadata": {
    "id": "poxwqmNSDUJe"
   },
   "source": [
    "19. Using the two lists defined below, create the following resulting list:\n",
    "\n",
    "`[\"AZ\", \"BY\", \"CX\", \"DW\", \"EV\"]`\n",
    "\n",
    "* _Hint:_ Check out the `zip()` function."
   ]
  },
  {
   "cell_type": "code",
   "execution_count": null,
   "metadata": {
    "id": "IK5drbgoDUJe"
   },
   "outputs": [],
   "source": [
    "letters_a = [\"A\", \"B\", \"C\", \"D\", \"E\"]\n",
    "letters_z = [\"Z\", \"Y\", \"X\", \"W\", \"V\"]"
   ]
  },
  {
   "cell_type": "code",
   "execution_count": null,
   "metadata": {
    "id": "pI6mb3RsDUJe"
   },
   "outputs": [],
   "source": []
  },
  {
   "cell_type": "markdown",
   "metadata": {
    "id": "zCdN-YE3DUJe"
   },
   "source": [
    "20. Using `letters_a` defined in the previous problem, create the following list:\n",
    "\n",
    "```\n",
    "[\n",
    "    \"A is letter 1 of the alphabet\",\n",
    "    \"B is letter 2 of the alphabet\",\n",
    "    ...\n",
    "]\n",
    "```\n",
    "\n",
    "* _Hint:_ Checkout the `enumerate()` function."
   ]
  },
  {
   "cell_type": "code",
   "execution_count": null,
   "metadata": {},
   "outputs": [],
   "source": []
  },
  {
   "cell_type": "markdown",
   "metadata": {},
   "source": [
    "### Functions\n",
    "In this section, every question gives example(s). You can (but don't need to) name your function accordingly. You _should_ test out the example to make sure your function works properly. If the example doesn't work, your answer is likely incorrect."
   ]
  },
  {
   "cell_type": "markdown",
   "metadata": {},
   "source": [
    "21. Write a function to compute the area of a triangle. You only need the base and height of a triangle to compute its area.\n",
    "\n",
    "* _Example:_ `area_triangle(5, 4) == 10.0`"
   ]
  },
  {
   "cell_type": "code",
   "execution_count": null,
   "metadata": {},
   "outputs": [],
   "source": []
  },
  {
   "cell_type": "markdown",
   "metadata": {},
   "source": [
    "22. Write a function that takes in a number `max_num` and returns the sum of the numbers 1 through `max_num` (inclusive).\n",
    "* _Example:_ `sum_n(5) == 1 + 2 + 3 + 4 + 5 == 15`"
   ]
  },
  {
   "cell_type": "code",
   "execution_count": null,
   "metadata": {},
   "outputs": [],
   "source": []
  },
  {
   "cell_type": "markdown",
   "metadata": {},
   "source": [
    "23. Write a function that takes in a number `max_num` and returns the sum of the square of the numbers 1 through `max_num` (inclusive).\n",
    "* `sum_squares(5) == 1 + 4 + 9 + 16 + 25 == 55`"
   ]
  },
  {
   "cell_type": "code",
   "execution_count": null,
   "metadata": {},
   "outputs": [],
   "source": []
  },
  {
   "cell_type": "markdown",
   "metadata": {},
   "source": [
    "24. Write a function that takes a number (an amount in euros) and convert it to U.S. dollars. There are 1.1 U.S. dollars per euro.\n",
    "* `to_dollar(10) == 11.0`"
   ]
  },
  {
   "cell_type": "code",
   "execution_count": null,
   "metadata": {},
   "outputs": [],
   "source": []
  },
  {
   "cell_type": "markdown",
   "metadata": {},
   "source": [
    "25. Write a function that takes a list of numbers (amounts in euros), and returns them converted to dollars. Use your answer to the previous question in your answer to this question.\n",
    "* _Example:_ `to_dollar_list([1, 10, 100]) == [1.1, 11.0, 110.0]`\n",
    "* _Note:_ You may get some decimal weirdness here."
   ]
  },
  {
   "cell_type": "code",
   "execution_count": null,
   "metadata": {},
   "outputs": [],
   "source": []
  },
  {
   "cell_type": "markdown",
   "metadata": {},
   "source": [
    "26. Write a function that takes a number (a person's height) and returns \"Tall enough\" if they are at least 5 feet (60 inches) or \"Too short\" if they are below 5 feet.\n",
    "* _Example:_ `is_tall(72) == 'Tall enough'`\n",
    "* _Example:_ `is_tall(52) == 'Too short'`"
   ]
  },
  {
   "cell_type": "code",
   "execution_count": null,
   "metadata": {},
   "outputs": [],
   "source": []
  },
  {
   "cell_type": "markdown",
   "metadata": {},
   "source": [
    "27. Write a function that takes a list of numbers (peoples' heights) and returns a list of strings \"Tall enough\" or \"Too short\" as in the previous problem. Use your answer to the previous problem to help answer this problem.\n",
    "* _Example:_ `is_tall_list([58, 70, 60]) == ['Too short', 'Tall enough', 'Tall enough']`"
   ]
  },
  {
   "cell_type": "code",
   "execution_count": null,
   "metadata": {},
   "outputs": [],
   "source": []
  },
  {
   "cell_type": "markdown",
   "metadata": {},
   "source": [
    "28. Write a function that takes in a numeric grade (0 to 100) and returns the letter grade (no pluses or minuses). In a traditional rubric, that would be as follows:\n",
    "\n",
    "* 90 or above = A\n",
    "* 80 - 89 = B\n",
    "* 70 - 79 = C\n",
    "* 60 - 69 = D\n",
    "* 59 or below = F\n",
    "    \n",
    "    \n",
    "* _Example:_ `letter_grade(85) == 'B'`"
   ]
  },
  {
   "cell_type": "code",
   "execution_count": null,
   "metadata": {},
   "outputs": [],
   "source": []
  },
  {
   "cell_type": "markdown",
   "metadata": {},
   "source": [
    "29. Write _another_ function that takes a list of numeric grades and returns their letter grades. Use the function written above in your answer.\n",
    "\n",
    "* _Example:_ `letter_grades([85, 62, 90]) == ['B', 'D', 'A']`"
   ]
  },
  {
   "cell_type": "code",
   "execution_count": null,
   "metadata": {},
   "outputs": [],
   "source": []
  },
  {
   "cell_type": "markdown",
   "metadata": {},
   "source": [
    "30. Head over to [codewars.com](https://www.codewars.com/) and create an account.  You don't need to receive emails or anything like that but be sure to choose the Python language and head over to the practice area.  Find a coding challenge that you feel capable of solving (higher kata is easier and you can sort from easiest to hardest).  After solving the problem, add a markdown cell below with the problem prompt, and add the code below to demonstrate the solution.  We will share these in small groups at the start of next class."
   ]
  },
  {
   "cell_type": "code",
   "execution_count": null,
   "metadata": {},
   "outputs": [],
   "source": []
  },
  {
   "cell_type": "markdown",
   "metadata": {},
   "source": []
  }
 ],
 "metadata": {
  "colab": {
   "provenance": []
  },
  "kernelspec": {
   "display_name": "Python 3",
   "language": "python",
   "name": "python3"
  },
  "language_info": {
   "codemirror_mode": {
    "name": "ipython",
    "version": 3
   },
   "file_extension": ".py",
   "mimetype": "text/x-python",
   "name": "python",
   "nbconvert_exporter": "python",
   "pygments_lexer": "ipython3",
   "version": "3.8.3"
  }
 },
 "nbformat": 4,
 "nbformat_minor": 4
}
